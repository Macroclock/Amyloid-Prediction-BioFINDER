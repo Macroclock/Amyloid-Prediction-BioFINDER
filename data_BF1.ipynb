{
 "cells": [
  {
   "cell_type": "code",
   "execution_count": null,
   "metadata": {},
   "outputs": [],
   "source": [
    "import pandas as pd"
   ]
  },
  {
   "cell_type": "code",
   "execution_count": null,
   "metadata": {},
   "outputs": [],
   "source": [
    "# Load the raw data and select only BF2\n",
    "zscore = True\n",
    "load_df = pd.read_csv('csv/raw_data_20231113.csv', low_memory=False)\n",
    "load_df = load_df[load_df['MetaStudy']=='BioFINDER-1']\n",
    "load_df.info(verbose=True)"
   ]
  },
  {
   "cell_type": "code",
   "execution_count": null,
   "metadata": {},
   "outputs": [],
   "source": [
    "f = [\n",
    "    'PL_ptau217_pgml_Lilly_imputed_2020',\n",
    "    'CSF_ptau217_pgml_Lilly_2021',\n",
    "    'CSF_Ab42_Ab40_ratio_imputed_Elecsys_2020_2022', 'age',\n",
    "    'apoe_genotype_baseline_variable', 'adas_delayed_word_recall',\n",
    "    'education_level_years_baseline_variable', 'gender_baseline_variable',\n",
    "    'cognitive_status_baseline_variable',\n",
    "    'mmse_score', 'Abnormal_CSF_Ab42_Ab40_Ratio', \n",
    "    'diagnosis_baseline_variable',  \n",
    "    'fnc_ber_com_composite'\n",
    "    ]\n",
    "new_fea_names = [\n",
    "                 'Plasma Lilly P-tau217',\n",
    "                 'CSF Lilly P-tau217',\n",
    "                 'CSF Aβ42/Aβ40',\n",
    "                 'Age',\n",
    "                 'APOE',\n",
    "                 'ADAS',\n",
    "                 'Education',\n",
    "                 'Sex',\n",
    "                 'Cognitive status',\n",
    "                 'MMSE',\n",
    "                 'CSF Abnormal Ratio',\n",
    "                 'Diagnosis status',\n",
    "                 'fnc_ber_com_composite']"
   ]
  },
  {
   "cell_type": "code",
   "execution_count": null,
   "metadata": {},
   "outputs": [],
   "source": [
    "select_df = load_df[f].reset_index(drop=True)\n",
    "select_df = select_df.set_axis(new_fea_names, axis=1)\n",
    "select_df.info()"
   ]
  },
  {
   "cell_type": "code",
   "execution_count": null,
   "metadata": {},
   "outputs": [],
   "source": [
    "if zscore:\n",
    "    stand_df = select_df[['Plasma Lilly P-tau217','CSF Lilly P-tau217']]\n",
    "    nonstand_df = select_df.drop(['Plasma Lilly P-tau217','CSF Lilly P-tau217'],axis=1)\n",
    "    z_df = pd.DataFrame()\n",
    "    features =  ['Cognitive status', 'CSF Abnormal Ratio']\n",
    "    for f in stand_df.columns:\n",
    "        cal_df = pd.concat([stand_df[f], nonstand_df[features]], axis=1)\n",
    "        cal_df = cal_df.dropna(how='any')\n",
    "        control_df = cal_df[((cal_df['Cognitive status'] == 'Normal') | (cal_df['Cognitive status'] == 'SCD')) & (cal_df['CSF Abnormal Ratio'] == 0)]\n",
    "        z_mean = control_df[f].mean()\n",
    "        z_std = control_df[f].std()\n",
    "        z_df[f] = (stand_df[f]-z_mean)/z_std\n",
    "\n",
    "    z_df = pd.concat([z_df, nonstand_df],axis=1)\n",
    "    z_df.to_csv('csv/BF1_R_Z.csv', index=False)\n",
    "else:\n",
    "    select_df.to_csv('csv/BF1_R.csv', index=False)"
   ]
  },
  {
   "cell_type": "code",
   "execution_count": null,
   "metadata": {},
   "outputs": [],
   "source": [
    "# # Check the data date range (optional)\n",
    "# select_df['csf_date'].dropna(how='any').max()"
   ]
  }
 ],
 "metadata": {
  "kernelspec": {
   "display_name": "AI_work",
   "language": "python",
   "name": "python3"
  },
  "language_info": {
   "codemirror_mode": {
    "name": "ipython",
    "version": 3
   },
   "file_extension": ".py",
   "mimetype": "text/x-python",
   "name": "python",
   "nbconvert_exporter": "python",
   "pygments_lexer": "ipython3",
   "version": "3.9.6"
  }
 },
 "nbformat": 4,
 "nbformat_minor": 2
}
