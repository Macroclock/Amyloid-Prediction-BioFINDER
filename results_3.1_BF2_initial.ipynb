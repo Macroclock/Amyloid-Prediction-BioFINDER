{
 "cells": [
  {
   "cell_type": "code",
   "execution_count": null,
   "metadata": {},
   "outputs": [],
   "source": [
    "import pandas as pd"
   ]
  },
  {
   "cell_type": "markdown",
   "metadata": {},
   "source": [
    "## Load BF2 data"
   ]
  },
  {
   "cell_type": "code",
   "execution_count": null,
   "metadata": {},
   "outputs": [],
   "source": [
    "load_df = pd.read_csv('csv/BF2_FS.csv')\n",
    "load_df['APOE'].replace({22.: '22', 23.: '23', 24.: '24', 33.: '33', 34.: '34', 44.: '44'}, inplace=True)"
   ]
  },
  {
   "cell_type": "code",
   "execution_count": null,
   "metadata": {},
   "outputs": [],
   "source": [
    "select_df = load_df.dropna(how='any')\n",
    "select_df = select_df.dropna(how='any').reset_index(drop=True)\n",
    "select_df.info()"
   ]
  },
  {
   "cell_type": "code",
   "execution_count": null,
   "metadata": {},
   "outputs": [],
   "source": [
    "select_df.describe()"
   ]
  },
  {
   "cell_type": "code",
   "execution_count": null,
   "metadata": {},
   "outputs": [],
   "source": [
    "print('Abeta abnormal:', select_df['CSF Abnormal Ratio'].sum())\n",
    "print('gender is 1: ', select_df['Sex'].sum())\n",
    "print(sum(select_df['Cognitive status'] == 'Normal'))\n",
    "print(sum(select_df['Cognitive status'] == 'SCD'))\n",
    "print(sum(select_df['Cognitive status'] == 'MCI'))\n",
    "print(sum(select_df['Cognitive status'] == 'Dementia'))\n",
    "print((sum(select_df['APOE'] == '22') + sum(select_df['APOE'] == '23') + sum(select_df['APOE'] == '33')))\n",
    "print((sum(select_df['APOE'] == '24') + sum(select_df['APOE'] == '34')))\n",
    "print((sum(select_df['APOE'] == '44')))"
   ]
  }
 ],
 "metadata": {
  "kernelspec": {
   "display_name": "AI_work",
   "language": "python",
   "name": "python3"
  },
  "language_info": {
   "codemirror_mode": {
    "name": "ipython",
    "version": 3
   },
   "file_extension": ".py",
   "mimetype": "text/x-python",
   "name": "python",
   "nbconvert_exporter": "python",
   "pygments_lexer": "ipython3",
   "version": "3.9.6"
  }
 },
 "nbformat": 4,
 "nbformat_minor": 2
}
