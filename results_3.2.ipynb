{
 "cells": [
  {
   "cell_type": "code",
   "execution_count": null,
   "metadata": {},
   "outputs": [],
   "source": [
    "import pandas as pd\n",
    "import numpy as np\n",
    "import shap\n",
    "import seaborn as sns\n",
    "import matplotlib.pyplot as plt\n",
    "from tqdm.auto import tqdm\n",
    "from sklearn.model_selection import train_test_split\n",
    "from xgboost import XGBRegressor\n",
    "from sklearn.svm import SVR\n",
    "from sklearn.neighbors import KNeighborsRegressor\n",
    "from sklearn.tree import DecisionTreeRegressor\n",
    "from sklearn.linear_model import Ridge\n",
    "from sklearn.ensemble import BaggingRegressor, ExtraTreesRegressor, RandomForestRegressor, GradientBoostingRegressor, AdaBoostRegressor\n",
    "from utils import bayescv, cv_scores, plot_permutation_importance"
   ]
  },
  {
   "cell_type": "code",
   "execution_count": null,
   "metadata": {},
   "outputs": [],
   "source": [
    "pd.options.display.float_format = '{:.3f}'.format\n",
    "sns.set_theme(style='whitegrid')\n",
    "\n",
    "thres = 1.03\n",
    "random_state = 42\n",
    "n_iter = 30\n",
    "zscore = False\n",
    "bayes = True"
   ]
  },
  {
   "cell_type": "markdown",
   "metadata": {},
   "source": [
    "## Load BF2 data"
   ]
  },
  {
   "cell_type": "code",
   "execution_count": null,
   "metadata": {},
   "outputs": [],
   "source": [
    "load_df = pd.read_csv('csv/BF2_FS.csv')\n",
    "load_df['APOE'].replace({22.: '22', 23.: '23', 24.: '24', 33.: '33', 34.: '34', 44.: '44'}, inplace=True)\n",
    "load_df = load_df.dropna(how='any')\n",
    "load_df.info()"
   ]
  },
  {
   "cell_type": "code",
   "execution_count": null,
   "metadata": {},
   "outputs": [],
   "source": [
    "select_df = load_df.dropna(how='any').reset_index(drop=True)\n",
    "select_df = select_df.drop(['CSF Abnormal Ratio'], axis=1)\n",
    "select_df = pd.get_dummies(select_df).astype('float64')\n",
    "select_df.info()"
   ]
  },
  {
   "cell_type": "code",
   "execution_count": null,
   "metadata": {},
   "outputs": [],
   "source": [
    "neg_idx = select_df['fnc_ber_com_composite']<=thres\n",
    "pos_idx = (1-neg_idx).astype('bool')\n",
    "neg_df = select_df[neg_idx]\n",
    "pos_df = select_df[pos_idx]\n",
    "neg_tv_df, neg_test_df = train_test_split(neg_df, test_size=0.2, random_state=random_state)\n",
    "pos_tv_df, pos_test_df = train_test_split(pos_df, test_size=0.2, random_state=random_state)\n",
    "tv_df = pd.concat([neg_tv_df, pos_tv_df])"
   ]
  },
  {
   "cell_type": "code",
   "execution_count": null,
   "metadata": {},
   "outputs": [],
   "source": [
    "plt.scatter(tv_df['Plasma P-tau217'].values*400,tv_df['Plasma %P-tau217'].values)\n",
    "plt.ylabel('[Plasma %P-tau217]')\n",
    "plt.xlabel('[Plasma P-tau217] * 400')\n",
    "plt.title('Plasma %P-tau217 against Plasma P-tau217')\n",
    "plt.show()"
   ]
  },
  {
   "cell_type": "code",
   "execution_count": null,
   "metadata": {},
   "outputs": [],
   "source": [
    "fig, ax = plt.subplots(1, 1, figsize=(20, 14))\n",
    "sns.heatmap(tv_df.corr(), annot=True, ax=ax, fmt=\".2f\", annot_kws={\"size\": 8})\n",
    "plt.title('Pearson correlation matrix')\n",
    "plt.show()"
   ]
  },
  {
   "cell_type": "markdown",
   "metadata": {},
   "source": [
    "### Initial model selection (Section 3.2.1)"
   ]
  },
  {
   "cell_type": "code",
   "execution_count": null,
   "metadata": {},
   "outputs": [],
   "source": [
    "cls = 'model_selection'\n",
    "model_list = [\n",
    "              SVR(kernel='poly'),\n",
    "              Ridge(alpha=0.5, random_state=random_state),\n",
    "              AdaBoostRegressor(n_estimators=450, random_state=random_state),\n",
    "              KNeighborsRegressor(n_neighbors=10),\n",
    "              GradientBoostingRegressor(max_depth=2, n_estimators=50, random_state=random_state),\n",
    "              DecisionTreeRegressor(max_depth=3, random_state=random_state),\n",
    "              BaggingRegressor(n_estimators=100, random_state=random_state),\n",
    "              XGBRegressor(max_depth=2, n_estimators=50, eta=0.09, random_state=random_state),\n",
    "              ExtraTreesRegressor(max_depth=6, random_state=random_state),\n",
    "              RandomForestRegressor(max_depth=5, random_state=random_state)\n",
    "              ]\n",
    "model_selection_df = pd.DataFrame()\n",
    "for model in model_list:\n",
    "      cv_scores_df = cv_scores(tv_df, 5, cls, None, thres, random_state, model)\n",
    "      model_selection_df = pd.concat([model_selection_df,cv_scores_df])"
   ]
  },
  {
   "cell_type": "code",
   "execution_count": null,
   "metadata": {},
   "outputs": [],
   "source": [
    "## sp table 4\n",
    "model_selection_df.groupby('Model').mean().sort_values(by='Val_R2',ascending=False)"
   ]
  },
  {
   "cell_type": "markdown",
   "metadata": {},
   "source": [
    "### Initial feature selection (Section 3.2.2)"
   ]
  },
  {
   "cell_type": "code",
   "execution_count": null,
   "metadata": {},
   "outputs": [],
   "source": [
    "cls = 'extratree'\n",
    "if cls == 'extratree':\n",
    "    model = ExtraTreesRegressor()\n",
    "elif cls == 'gradientboost':\n",
    "    model = GradientBoostingRegressor()"
   ]
  },
  {
   "cell_type": "code",
   "execution_count": null,
   "metadata": {},
   "outputs": [],
   "source": [
    "X_train = tv_df.drop(['fnc_ber_com_composite'], axis=1)\n",
    "y_train = tv_df['fnc_ber_com_composite']"
   ]
  },
  {
   "cell_type": "code",
   "execution_count": null,
   "metadata": {},
   "outputs": [],
   "source": [
    "opt = bayescv(X_train, y_train, n_iter, model, random_state=random_state, cls=cls)"
   ]
  },
  {
   "cell_type": "code",
   "execution_count": null,
   "metadata": {},
   "outputs": [],
   "source": [
    "try:\n",
    "    best_param = dict(opt.best_params_)\n",
    "    # aa\n",
    "except:\n",
    "    best_param = {'max_depth': 7,\n",
    "'min_samples_leaf': 2,\n",
    "'min_samples_split': 5,\n",
    "'n_estimators': 250}\n",
    "best_param"
   ]
  },
  {
   "cell_type": "code",
   "execution_count": null,
   "metadata": {},
   "outputs": [],
   "source": [
    "cv_scores_df = cv_scores(tv_df, 5, cls, best_param, thres, random_state)\n",
    "cv_scores_df.mean()"
   ]
  },
  {
   "cell_type": "code",
   "execution_count": null,
   "metadata": {},
   "outputs": [],
   "source": [
    "if cls == 'extratree':\n",
    "    best_model = ExtraTreesRegressor(**best_param, random_state=random_state)\n",
    "elif cls == 'gradientboost':\n",
    "    best_model = GradientBoostingRegressor(**best_param, random_state=random_state)\n",
    "best_model.fit(X_train,y_train)"
   ]
  },
  {
   "cell_type": "code",
   "execution_count": null,
   "metadata": {},
   "outputs": [],
   "source": [
    "shap_df = tv_df.sort_values(by = 'fnc_ber_com_composite').reset_index(drop=True)\n",
    "X_shap = shap_df.drop(['fnc_ber_com_composite'], axis=1)\n",
    "y_shap = shap_df['fnc_ber_com_composite']\n",
    "y_pred_shap = best_model.predict(X_shap)"
   ]
  },
  {
   "cell_type": "code",
   "execution_count": null,
   "metadata": {},
   "outputs": [],
   "source": [
    "mdi_importances = pd.Series(best_model.feature_importances_, index=X_train.columns)\n",
    "tree_importance_sorted_idx = np.argsort(best_model.feature_importances_)\n",
    "tree_indices = np.arange(0, len(best_model.feature_importances_)) + 0.5\n",
    "\n",
    "fig, (ax1, ax2) = plt.subplots(1, 2, figsize=(12, 8))\n",
    "mdi_importances.sort_values().plot.barh(ax=ax1)\n",
    "ax1.set_xlabel(\"Gini importance\")\n",
    "plot_permutation_importance(best_model, X_train, y_train, ax2, random_state)\n",
    "ax2.set_xlabel(\"Decrease in accuracy score\")\n",
    "fig.suptitle(\n",
    "    \"Impurity-based vs. permutation importances on multicollinear features (train set)\"\n",
    ")\n",
    "_ = fig.tight_layout()"
   ]
  },
  {
   "cell_type": "code",
   "execution_count": null,
   "metadata": {},
   "outputs": [],
   "source": [
    "shap.initjs()\n",
    "explainer = shap.TreeExplainer(best_model)\n",
    "shap_values = explainer.shap_values(X_shap)\n",
    "plt.title('SHAP values')\n",
    "shap.summary_plot(shap_values, X_shap, max_display=150, show=True, plot_size=(10,10))\n",
    "plt.show()\n",
    "# savefig_name = crop[8:-7] + 'RF_SHAP_impact.png'\n",
    "# plt.savefig(savefig_name,format='png')"
   ]
  },
  {
   "cell_type": "markdown",
   "metadata": {},
   "source": [
    "### Final feature selection (Section 3.2.3)"
   ]
  },
  {
   "cell_type": "code",
   "execution_count": null,
   "metadata": {},
   "outputs": [],
   "source": [
    "feature_list = [\n",
    "    ['Plasma %p-tau217', 'CSF AB42/AB40', 'Age', 'APOE'],\n",
    "    # ['Plasma p-tau217', 'CSF AB42/AB40', 'Age', 'APOE'],\n",
    "    # ['CSF p-tau217', 'CSF AB42/AB40', 'Age', 'APOE'],\n",
    "    ['Plasma %p-tau217', 'Age', 'APOE'],\n",
    "    ['CSF AB42/AB40', 'Age', 'APOE'],\n",
    "    ['Age', 'APOE'],\n",
    "    ['Plasma %p-tau217', 'Plasma AB42/AB40', 'Age', 'APOE'],\n",
    "    ['Plasma AB42/AB40', 'Age', 'APOE'],\n",
    "    ['Plasma %p-tau217', 'CSF AB42/AB40', 'Age', 'APOE', 'Plasma %p-tau181', 'Plasma %p-tau205', 'Plasma p-tau231'],\n",
    "    ['CSF p-tau217', 'CSF AB42/AB40', 'Age', 'APOE', 'Plasma %p-tau181', 'Plasma %p-tau205', 'Plasma p-tau231'],\n",
    "    ['CSF AB42/AB40', 'Age', 'APOE', 'Plasma %p-tau181', 'Plasma %p-tau205', 'Plasma p-tau231'],\n",
    "    ['Plasma %p-tau217', 'CSF AB42/AB40', 'Age', 'APOE', 'ADAS', 'Cognitive status'],\n",
    "]"
   ]
  },
  {
   "cell_type": "code",
   "execution_count": null,
   "metadata": {},
   "outputs": [],
   "source": [
    "table_df = pd.DataFrame()\n",
    "cls = 'gradientboost'\n",
    "n_iter = 5\n",
    "for random_state in tqdm(range(1)):\n",
    "    idx = 1\n",
    "    for features in feature_list:\n",
    "        select_df = load_df[features + ['fnc_ber_com_composite']]\n",
    "        select_df = pd.get_dummies(select_df).astype('float64')\n",
    "        if cls == 'extratree':\n",
    "            model = ExtraTreesRegressor()\n",
    "        elif cls == 'gradientboost':\n",
    "            model = GradientBoostingRegressor()\n",
    "        neg_idx = select_df['fnc_ber_com_composite']<=thres\n",
    "        pos_idx = (1-neg_idx).astype('bool')\n",
    "        neg_df = select_df[neg_idx]\n",
    "        pos_df = select_df[pos_idx]\n",
    "        neg_tv_df, neg_test_df = train_test_split(neg_df, test_size=0.2, random_state=random_state)\n",
    "        pos_tv_df, pos_test_df = train_test_split(pos_df, test_size=0.2, random_state=random_state)\n",
    "        tv_df = pd.concat([neg_tv_df, pos_tv_df])\n",
    "\n",
    "        X_train = tv_df.drop(['fnc_ber_com_composite'], axis=1)\n",
    "        y_train = tv_df['fnc_ber_com_composite']\n",
    "\n",
    "        opt = bayescv(X_train, y_train, n_iter, model, random_state=random_state, cls=cls)\n",
    "        best_param = dict(opt.best_params_)\n",
    "        ## cross-validation\n",
    "        cv_scores_df = cv_scores(tv_df, 5, cls, best_param, thres, random_state)\n",
    "        mid = pd.concat([pd.DataFrame([random_state,idx],index=['random_state','FC']),cv_scores_df.mean()]).T\n",
    "        if len(table_df) == 0:\n",
    "            table_df = mid\n",
    "        else:\n",
    "            table_df = pd.concat([table_df, mid],axis=0)\n",
    "        idx += 1\n",
    "table_df['random_state'] = table_df['random_state'].astype(int)\n",
    "table_df['FC'] = table_df['FC'].astype(int)\n",
    "table_df = table_df.drop(['kfold'],axis=1)"
   ]
  },
  {
   "cell_type": "code",
   "execution_count": null,
   "metadata": {},
   "outputs": [],
   "source": [
    "result_df = table_df.reset_index(drop=True)\n",
    "result_df"
   ]
  },
  {
   "cell_type": "code",
   "execution_count": null,
   "metadata": {},
   "outputs": [],
   "source": [
    "# result_df.to_csv('sp_figure_10_gbdt.csv')"
   ]
  },
  {
   "cell_type": "code",
   "execution_count": null,
   "metadata": {},
   "outputs": [],
   "source": [
    "sns.set_theme(style='whitegrid', palette=sns.color_palette('tab10')[3:])\n",
    "fig = plt.figure(figsize=(8,6))\n",
    "sns.boxplot(data=result_df,x='FC',y='Val_R2',width=0.5,whis=1.5,linewidth = 1.)\n",
    "# sns.boxplot(data=result_df,x='FC',y='Val_MAPE',width=0.5,whis=1.5,linewidth = 1.)\n",
    "plt.title('R squared scores derived from GBDT trained with different feature combinations')\n",
    "plt.xlabel('Feature combination')\n",
    "plt.ylabel('R squared')\n",
    "plt.show()"
   ]
  },
  {
   "cell_type": "code",
   "execution_count": null,
   "metadata": {},
   "outputs": [],
   "source": []
  }
 ],
 "metadata": {
  "kernelspec": {
   "display_name": "AI_work",
   "language": "python",
   "name": "python3"
  },
  "language_info": {
   "codemirror_mode": {
    "name": "ipython",
    "version": 3
   },
   "file_extension": ".py",
   "mimetype": "text/x-python",
   "name": "python",
   "nbconvert_exporter": "python",
   "pygments_lexer": "ipython3",
   "version": "3.9.6"
  }
 },
 "nbformat": 4,
 "nbformat_minor": 2
}
