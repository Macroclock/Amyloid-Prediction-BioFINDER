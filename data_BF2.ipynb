{
 "cells": [
  {
   "cell_type": "code",
   "execution_count": null,
   "metadata": {},
   "outputs": [],
   "source": [
    "import pandas as pd\n",
    "import matplotlib.pyplot as plt"
   ]
  },
  {
   "cell_type": "code",
   "execution_count": null,
   "metadata": {},
   "outputs": [],
   "source": [
    "# Load the raw data and select only BF2\n",
    "optional = False\n",
    "load_df = pd.read_csv('csv/raw_data_20231113.csv', low_memory=False)\n",
    "load_df = load_df[load_df['MetaStudy']=='BioFINDER-2']\n",
    "load_df.info(verbose=True)"
   ]
  },
  {
   "cell_type": "code",
   "execution_count": null,
   "metadata": {},
   "outputs": [],
   "source": [
    "# Feature list used in model development and feature engineering, i.e., section 3.2\n",
    "group = 'FS'\n",
    "if group == 'FS':\n",
    "    f= [\n",
    "        'sid','Visit',\n",
    "        # 'visit_date',\n",
    "        'PL_pT217T217percentmean_WashU_2023','PL_pT217levelmean_WashU_2023',\n",
    "        'PL_pT181T181percentmean_WashU_2023','PL_pT181levelmean_WashU_2023',\n",
    "        'PL_pT205T205percentmean_WashU_2023','PL_pT205levelmean_WashU_2023',\n",
    "        'PL_tau195210levelmean_WashU_2023','PL_tau181190levelmean_WashU_2023',\n",
    "        'PL_tau212221levelmean_WashU_2023','Plasma_ptau231_pgml_UGOT_2023',\n",
    "        'PL_Abeta4240Ratio_Standardized_WashU2023','PL_NTAadjusted_pgmL_Simoa_UGOT_2022',\n",
    "        'PL_GFAP_pgmL_Simoa_UGOT_2022', 'PL_NFlight_pgmL_Simoa_UGOT_2022',\n",
    "        'CSF_Ab42_Ab40_ratio_imputed_Elecsys_2020_2022','CSF_Ptau_pgml_imputed_Elecsys_2020_2022',\n",
    "        'age', 'apoe_genotype_baseline_variable','education_level_years_baseline_variable', \n",
    "        'gender_baseline_variable', 'adas_delayed_word_recall',\n",
    "        'Abnormal_CSF_Ab42_Ab40_Ratio','animal_fluency', 'cognitive_status_baseline_variable', \n",
    "        'mPACC_v2','mmse_score', 'symbol_digit', 'trailmaking_b','fnc_ber_com_composite']\n",
    "    new_fea_names = [\n",
    "                 'CSF P-tau217',\n",
    "                 'Plasma %P-tau217',\n",
    "                 'Plasma P-tau217',\n",
    "                 'Plasma %P-tau181',\n",
    "                 'Plasma P-tau181',\n",
    "                 'Plasma %P-tau205',\n",
    "                 'Plasma P-tau205',\n",
    "                 'Plasma tau195-210',\n",
    "                 'Plasma tau181-190',\n",
    "                 'Plasma tau212-221',\n",
    "                 'Plasma P-tau231',\n",
    "                 'Plasma Aβ42/Aβ40',\n",
    "                 'Plasma NTAadjusted',\n",
    "                 'Plasma GFAP',\n",
    "                 'Plasma NFlight',\n",
    "                 'CSF Aβ42/Aβ40',\n",
    "                 'CSF P-tau181',\n",
    "                 'Age',\n",
    "                 'APOE',\n",
    "                 'Education',\n",
    "                 'Sex',\n",
    "                 'ADAS',\n",
    "                 'CSF Abnormal Ratio',\n",
    "                 'Animal fluency',\n",
    "                 'Cognitive status',\n",
    "                 'PACC',\n",
    "                 'MMSE',\n",
    "                 'Symbol digit',\n",
    "                 'Trailmaking',\n",
    "                 'fnc_ber_com_composite']\n",
    "elif group == 'R':\n",
    "    # Features used for the rest results, i.e., section 3.3-3.7\n",
    "    f = [\n",
    "        'sid','Visit',\n",
    "        'PL_pT217T217percentmean_WashU_2023','PL_ptau217_pgml_Lilly_2022',\n",
    "        'CSF_09pT217T217mean_WashU_2022',\n",
    "        # 'CSF_ptau217_pgml_Lilly_2019','CSF_Tau_212_221_p217_UGOT_2022','PL_Abeta4240Ratio_Standardized_WashU2023', \n",
    "        'CSF_Ab42_Ab40_ratio_imputed_Elecsys_2020_2022', \n",
    "        'age','apoe_genotype_baseline_variable','adas_delayed_word_recall',\n",
    "        'education_level_years_baseline_variable','gender_baseline_variable',\n",
    "        'cognitive_status_baseline_variable','mmse_score', \n",
    "        'Abnormal_CSF_Ab42_Ab40_Ratio', 'diagnosis_baseline_variable', 'fnc_ber_com_composite']\n",
    "    new_fea_names = [\n",
    "                 'CSF Lilly P-tau217',\n",
    "                 'Plasma WashU %P-tau217',\n",
    "                 'Plasma Lilly P-tau217',\n",
    "                 'CSF WashU P-tau217',\n",
    "                 'CSF Aβ42/Aβ40',\n",
    "                 'Age',\n",
    "                 'APOE',\n",
    "                 'ADAS',\n",
    "                 'Education',\n",
    "                 'Sex',\n",
    "                 'Cognitive status',\n",
    "                 'MMSE',\n",
    "                 'CSF Abnormal Ratio',\n",
    "                 'Diagnosis status',\n",
    "                 'fnc_ber_com_composite']"
   ]
  },
  {
   "cell_type": "code",
   "execution_count": null,
   "metadata": {},
   "outputs": [],
   "source": [
    "# Load chosen features only\n",
    "select_df = load_df[f].reset_index(drop=True)\n",
    "select_df.info()"
   ]
  },
  {
   "cell_type": "markdown",
   "metadata": {},
   "source": [
    "### Optional"
   ]
  },
  {
   "cell_type": "code",
   "execution_count": null,
   "metadata": {},
   "outputs": [],
   "source": [
    "# Check specific biomarkers (optional)\n",
    "if optional:\n",
    "    biomarker_231 = [col for col in load_df.columns if '231' in col]\n",
    "    biomarker_217 = [col for col in load_df.columns if '217' in col]\n",
    "    biomarker_212 = [col for col in load_df.columns if '212' in col]\n",
    "    biomarker_205 = [col for col in load_df.columns if '205' in col]\n",
    "    biomarker_195 = [col for col in load_df.columns if '195' in col]\n",
    "    biomarker_181 = [col for col in load_df.columns if '181' in col]\n",
    "    biomarker_ptau = [col for col in load_df.columns if 'Ptau' in col]\n",
    "    biomarker_GFAP = [col for col in load_df.columns if 'GFAP' in col]\n",
    "    biomarker_NFL = [col for col in load_df.columns if 'NFl' in col]\n",
    "    biomarker_Ab = [col for col in load_df.columns if 'Ab' in col]\n",
    "    fnc = [col for col in load_df.columns if 'fnc' in col]\n",
    "    date = [col for col in load_df.columns if 'date' in col]\n",
    "    print(*date, sep=\"\\n\")"
   ]
  },
  {
   "cell_type": "code",
   "execution_count": null,
   "metadata": {},
   "outputs": [],
   "source": [
    "# Check the data date range (optional)\n",
    "if optional:\n",
    "    select_df['visit_date'].dropna(how='any').max()"
   ]
  },
  {
   "cell_type": "code",
   "execution_count": null,
   "metadata": {},
   "outputs": [],
   "source": [
    "# Check the histograms of biomarkers (optional)\n",
    "if optional:\n",
    "    fig, ax = plt.subplots(3,5,figsize=(30,10))\n",
    "    select_df.hist(bins=200, ax=ax)\n",
    "    plt.show()"
   ]
  },
  {
   "cell_type": "markdown",
   "metadata": {},
   "source": [
    "### Merge with CSF files"
   ]
  },
  {
   "cell_type": "code",
   "execution_count": null,
   "metadata": {},
   "outputs": [],
   "source": [
    "extra_df = pd.read_excel('csv/BF2_CSF_Lilly_2024.xlsx')\n",
    "extra_df['Visit'] = extra_df['Visit'].astype('float64')\n",
    "extra_df = extra_df[['sid', 'Visit', 'Norm_CSF_ptau217_pgml_Lilly_2019_2024']]\n",
    "extra_df.info()"
   ]
  },
  {
   "cell_type": "code",
   "execution_count": null,
   "metadata": {},
   "outputs": [],
   "source": [
    "result = extra_df.merge(select_df, on=['sid', 'Visit'], how='right')\n",
    "result.drop(['sid','Visit'], axis=1, inplace=True)\n",
    "result = result.set_axis(new_fea_names, axis=1)\n",
    "result.info()"
   ]
  },
  {
   "cell_type": "code",
   "execution_count": null,
   "metadata": {},
   "outputs": [],
   "source": [
    "if group == 'FS':\n",
    "    result.to_csv('csv/BF2_FS.csv', index=False)\n",
    "elif group == 'R':\n",
    "    result.to_csv('csv/BF2_R.csv', index=False)"
   ]
  },
  {
   "cell_type": "code",
   "execution_count": null,
   "metadata": {},
   "outputs": [],
   "source": []
  }
 ],
 "metadata": {
  "kernelspec": {
   "display_name": "AI_work",
   "language": "python",
   "name": "python3"
  },
  "language_info": {
   "codemirror_mode": {
    "name": "ipython",
    "version": 3
   },
   "file_extension": ".py",
   "mimetype": "text/x-python",
   "name": "python",
   "nbconvert_exporter": "python",
   "pygments_lexer": "ipython3",
   "version": "3.9.6"
  }
 },
 "nbformat": 4,
 "nbformat_minor": 2
}
