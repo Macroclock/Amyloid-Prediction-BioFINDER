{
 "cells": [
  {
   "cell_type": "code",
   "execution_count": null,
   "metadata": {},
   "outputs": [],
   "source": [
    "import pandas as pd\n",
    "import seaborn as sns\n",
    "from sklearn.model_selection import train_test_split\n",
    "from sklearn.ensemble import ExtraTreesRegressor\n",
    "from xgboost import XGBRegressor\n",
    "\n",
    "from xgboost import XGBRegressor\n",
    "from sklearn.svm import SVR\n",
    "from sklearn.neighbors import KNeighborsRegressor\n",
    "from sklearn.tree import DecisionTreeRegressor\n",
    "from sklearn.linear_model import Ridge\n",
    "from sklearn.ensemble import BaggingRegressor, ExtraTreesRegressor, RandomForestRegressor, GradientBoostingRegressor, AdaBoostRegressor\n",
    "\n",
    "from utils import reg_scores"
   ]
  },
  {
   "cell_type": "code",
   "execution_count": null,
   "metadata": {},
   "outputs": [],
   "source": [
    "pd.set_option('display.max_columns',1000)\n",
    "pd.options.display.float_format = '{:.3f}'.format\n",
    "sns.set_theme(style='whitegrid')\n",
    "model_types = ['extratree', 'gradientboost']\n",
    "cls = model_types[0]\n",
    "thres = 1.03\n",
    "random_state = 42\n",
    "n_iter = 30\n",
    "\n",
    "bayes = True\n",
    "ptau217_index = 0"
   ]
  },
  {
   "cell_type": "code",
   "execution_count": null,
   "metadata": {},
   "outputs": [],
   "source": [
    "load_bf2_df = pd.read_csv('csv/BF2_R.csv')"
   ]
  },
  {
   "cell_type": "code",
   "execution_count": null,
   "metadata": {},
   "outputs": [],
   "source": [
    "ptau217 = ['Plasma WashU %p-tau217',\n",
    "           'Plasma Lilly p-tau217',\n",
    "           'CSF Lilly p-tau217',\n",
    "           'CSF WashU p-tau217']\n",
    "\n",
    "common = ['CSF AB42/AB40',\n",
    "          'Age',\n",
    "          'APOE',\n",
    "          'ADAS',\n",
    "          'Education',\n",
    "          'Sex',\n",
    "          'Cognitive status',\n",
    "          'MMSE',\n",
    "          'CSF Abnormal Ratio',\n",
    "          'Diagnosis status',\n",
    "          'fnc_ber_com_composite']\n",
    "\n",
    "cd_drop = [           \n",
    "            # 'Age',\n",
    "            # 'APOE',\n",
    "            'ADAS',\n",
    "            'Education',\n",
    "            'Sex',\n",
    "            'Cognitive status',\n",
    "            'MMSE',\n",
    "            'CSF Abnormal Ratio',\n",
    "            'Diagnosis status']\n",
    "\n",
    "name = ['BF2-P-MS','BF2-P-IA','BF2-C-IA','BF2-C-MS']"
   ]
  },
  {
   "cell_type": "code",
   "execution_count": null,
   "metadata": {},
   "outputs": [],
   "source": [
    "features = [ptau217[ptau217_index]] + common\n",
    "select_df = load_bf2_df[features]\n",
    "select_df = select_df.dropna(how='any').reset_index(drop=True)\n",
    "select_df.info()"
   ]
  },
  {
   "cell_type": "code",
   "execution_count": null,
   "metadata": {},
   "outputs": [],
   "source": [
    "neg_idx = select_df['fnc_ber_com_composite']<=thres\n",
    "pos_idx = (1-neg_idx).astype('bool')\n",
    "neg_df = select_df[neg_idx]\n",
    "pos_df = select_df[pos_idx]\n",
    "pos_tv_df, pos_test_df = train_test_split(pos_df, test_size=0.2, random_state=random_state)\n",
    "\n",
    "tv_df = pos_tv_df.drop(cd_drop,axis=1)\n",
    "test_df = pos_test_df.drop(cd_drop,axis=1)\n",
    "\n",
    "X_test = test_df.drop(['fnc_ber_com_composite'], axis=1)\n",
    "y_test = test_df['fnc_ber_com_composite']"
   ]
  },
  {
   "cell_type": "code",
   "execution_count": null,
   "metadata": {},
   "outputs": [],
   "source": [
    "tv_df.info()"
   ]
  },
  {
   "cell_type": "code",
   "execution_count": null,
   "metadata": {},
   "outputs": [],
   "source": [
    "model_list = [\n",
    "              SVR(kernel='poly'),\n",
    "              Ridge(alpha=0.5, random_state=random_state),\n",
    "              AdaBoostRegressor(n_estimators=450, random_state=random_state),\n",
    "              KNeighborsRegressor(n_neighbors=10),\n",
    "              GradientBoostingRegressor(max_depth=2, n_estimators=50, random_state=random_state),\n",
    "              DecisionTreeRegressor(max_depth=3, random_state=random_state),\n",
    "              BaggingRegressor(n_estimators=100, random_state=random_state),\n",
    "              XGBRegressor(max_depth=2, n_estimators=50, eta=0.09, random_state=random_state),\n",
    "              ExtraTreesRegressor(max_depth=6, random_state=random_state),\n",
    "              RandomForestRegressor(max_depth=5, random_state=random_state)\n",
    "              ]\n",
    "kf_scores = []\n",
    "kf = 5\n",
    "for model in model_list:\n",
    "  l = round(len(tv_df)/kf)\n",
    "  for k in range(kf):\n",
    "      val_df = tv_df.iloc[l*k:l*(k+1),:]\n",
    "      train_df = tv_df.drop(val_df.index)        \n",
    "      # normalization\n",
    "      X_train = train_df.drop(['fnc_ber_com_composite'], axis=1)\n",
    "      y_train = train_df['fnc_ber_com_composite']\n",
    "\n",
    "      X_val = val_df.drop(['fnc_ber_com_composite'], axis=1)\n",
    "      y_val = val_df['fnc_ber_com_composite']\n",
    "\n",
    "      model.fit(X_train, y_train)\n",
    "      kf_scores.append([str(model)[:str(model).index('(')],k] + list(reg_scores(model, X_train, y_train, X_val, y_val)))"
   ]
  },
  {
   "cell_type": "code",
   "execution_count": null,
   "metadata": {},
   "outputs": [],
   "source": [
    "result_df = pd.DataFrame(kf_scores, columns=['Model', 'kfold', 'Train_R2', 'Val_R2', 'Train_MAPE', 'Val_MAPE'])\n",
    "result_df.groupby('Model').mean().sort_values(by='Val_R2',ascending=False)"
   ]
  },
  {
   "cell_type": "code",
   "execution_count": null,
   "metadata": {},
   "outputs": [],
   "source": []
  }
 ],
 "metadata": {
  "kernelspec": {
   "display_name": "AI_work",
   "language": "python",
   "name": "python3"
  },
  "language_info": {
   "codemirror_mode": {
    "name": "ipython",
    "version": 3
   },
   "file_extension": ".py",
   "mimetype": "text/x-python",
   "name": "python",
   "nbconvert_exporter": "python",
   "pygments_lexer": "ipython3",
   "version": "3.9.6"
  }
 },
 "nbformat": 4,
 "nbformat_minor": 2
}
