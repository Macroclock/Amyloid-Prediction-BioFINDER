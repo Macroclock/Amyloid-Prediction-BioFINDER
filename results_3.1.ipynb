{
 "cells": [
  {
   "cell_type": "code",
   "execution_count": null,
   "metadata": {},
   "outputs": [],
   "source": [
    "import pandas as pd"
   ]
  },
  {
   "cell_type": "markdown",
   "metadata": {},
   "source": [
    "## Load BF2 data"
   ]
  },
  {
   "cell_type": "code",
   "execution_count": null,
   "metadata": {},
   "outputs": [],
   "source": [
    "cohort = 'initial'\n",
    "if cohort == 'initial':\n",
    "    bf2_df = pd.read_csv('csv/BF2_FS.csv')\n",
    "elif cohort == 'normal':\n",
    "    bf2_df = pd.read_csv('csv/BF2_R.csv')"
   ]
  },
  {
   "cell_type": "code",
   "execution_count": null,
   "metadata": {},
   "outputs": [],
   "source": [
    "bf2_df['APOE'].replace({22.: '22', 23.: '23', 24.: '24', 33.: '33', 34.: '34', 44.: '44'}, inplace=True)\n",
    "bf2_df.info()"
   ]
  },
  {
   "cell_type": "code",
   "execution_count": null,
   "metadata": {},
   "outputs": [],
   "source": [
    "BF2_P_MS = [\n",
    "                'Plasma WashU %p-tau217',\n",
    "                'CSF AB42/AB40',\n",
    "]\n",
    "\n",
    "BF2_P_IA = [\n",
    "                'Plasma Lilly p-tau217',\n",
    "                'CSF AB42/AB40',\n",
    "]\n",
    "\n",
    "BF2_C_MS = [\n",
    "                'CSF WashU p-tau217',\n",
    "                'CSF AB42/AB40',\n",
    "                ]\n",
    "\n",
    "BF2_C_IA = [\n",
    "                'CSF Lilly p-tau217',\n",
    "                'CSF AB42/AB40',\n",
    "                ]\n",
    "\n",
    "common = [\n",
    "       'Age',\n",
    "       'APOE',\n",
    "       'ADAS',\n",
    "       'Education',\n",
    "       'Sex',\n",
    "       'Cognitive status',\n",
    "       'MMSE',\n",
    "       'CSF Abnormal Ratio',\n",
    "       'Diagnosis status',\n",
    "       'fnc_ber_com_composite']"
   ]
  },
  {
   "cell_type": "code",
   "execution_count": null,
   "metadata": {},
   "outputs": [],
   "source": [
    "# Count for the union set of all the sub-cohorts from BF2\n",
    "feature_groups = [BF2_P_MS, BF2_P_IA, BF2_C_MS, BF2_C_IA]\n",
    "result_df = pd.DataFrame()\n",
    "for g in feature_groups:\n",
    "    select_df = bf2_df[g+common]\n",
    "    select_df = select_df.dropna(how='any')\n",
    "    result_df = pd.concat([select_df, result_df], axis=1)\n",
    "common_df = bf2_df.loc[result_df.index]\n",
    "common_df = common_df[common]\n",
    "common_df.describe()"
   ]
  },
  {
   "cell_type": "code",
   "execution_count": null,
   "metadata": {},
   "outputs": [],
   "source": [
    "print('Abeta abnormal:', common_df['CSF Abnormal Ratio'].sum())\n",
    "print('gender is 1: ', common_df['Sex'].sum())\n",
    "print(sum(common_df['Cognitive status'] == 'Normal'))\n",
    "print(sum(common_df['Cognitive status'] == 'SCD'))\n",
    "print(sum(common_df['Cognitive status'] == 'MCI'))\n",
    "print(sum(common_df['Cognitive status'] == 'Dementia'))\n",
    "print((sum(common_df['APOE'] == '22') + sum(common_df['APOE'] == '23') + sum(common_df['APOE'] == '33')))\n",
    "print((sum(common_df['APOE'] == '24') + sum(common_df['APOE'] == '34')))\n",
    "print((sum(common_df['APOE'] == '44')))"
   ]
  },
  {
   "cell_type": "code",
   "execution_count": null,
   "metadata": {},
   "outputs": [],
   "source": [
    "# Count for each sub-cohort\n",
    "select_df = bf2_df[feature_groups[0] + common]\n",
    "select_df = select_df.dropna(how='any')\n",
    "select_df = select_df.dropna(how='any').reset_index(drop=True)\n",
    "select_df.describe()"
   ]
  },
  {
   "cell_type": "code",
   "execution_count": null,
   "metadata": {},
   "outputs": [],
   "source": [
    "print('Abeta abnormal:', select_df['CSF Abnormal Ratio'].sum())\n",
    "print('gender is 1: ', select_df['Sex'].sum())\n",
    "print(sum(select_df['Cognitive status'] == 'Normal'))\n",
    "print(sum(select_df['Cognitive status'] == 'SCD'))\n",
    "print(sum(select_df['Cognitive status'] == 'MCI'))\n",
    "print(sum(select_df['Cognitive status'] == 'Dementia'))\n",
    "print((sum(select_df['APOE'] == '22') + sum(select_df['APOE'] == '23') + sum(select_df['APOE'] == '33')))\n",
    "print((sum(select_df['APOE'] == '24') + sum(select_df['APOE'] == '34')))\n",
    "print((sum(select_df['APOE'] == '44')))"
   ]
  },
  {
   "cell_type": "markdown",
   "metadata": {},
   "source": [
    "## Load BF1 data"
   ]
  },
  {
   "cell_type": "code",
   "execution_count": null,
   "metadata": {},
   "outputs": [],
   "source": [
    "bf1_df = pd.read_csv('csv/BF1_R.csv')\n",
    "bf1_df['APOE'].replace({22.: '22', 23.: '23', 24.: '24', 33.: '33', 34.: '34', 44.: '44'}, inplace=True)\n",
    "bf1_features = [\n",
    "                'Plasma Lilly p-tau217',\n",
    "                'CSF Lilly p-tau217',\n",
    "                'CSF AB42/AB40']\n",
    "bf1_df = bf1_df[bf1_features+common]\n",
    "# bf1_df = bf1_df.dropna(how='any')\n",
    "bf1_df.info()"
   ]
  },
  {
   "cell_type": "code",
   "execution_count": null,
   "metadata": {},
   "outputs": [],
   "source": [
    "BF1_P_IA = [\n",
    "                'Plasma Lilly p-tau217',\n",
    "                'CSF AB42/AB40']\n",
    "\n",
    "BF1_C_IA = [\n",
    "                'CSF Lilly p-tau217',\n",
    "                'CSF AB42/AB40']"
   ]
  },
  {
   "cell_type": "code",
   "execution_count": null,
   "metadata": {},
   "outputs": [],
   "source": [
    "feature_groups = [BF1_P_IA, BF1_C_IA]\n",
    "result_df = pd.DataFrame()\n",
    "for g in feature_groups:\n",
    "    select_df = bf1_df[g+common]\n",
    "    select_df = select_df.dropna(how='any')\n",
    "    result_df = pd.concat([select_df, result_df], axis=1)\n",
    "common_df = bf1_df.loc[result_df.index]\n",
    "common_df = common_df[common]\n",
    "common_df.describe()"
   ]
  },
  {
   "cell_type": "code",
   "execution_count": null,
   "metadata": {},
   "outputs": [],
   "source": [
    "print('Abeta abnormal:', common_df['CSF Abnormal Ratio'].sum())\n",
    "print('gender is 1: ', common_df['Sex'].sum())\n",
    "print(sum(common_df['Cognitive status'] == 'Normal'))\n",
    "print(sum(common_df['Cognitive status'] == 'SCD'))\n",
    "print(sum(common_df['Cognitive status'] == 'MCI'))\n",
    "print(sum(common_df['Cognitive status'] == 'Dementia'))\n",
    "print((sum(common_df['APOE'] == '22') + sum(common_df['APOE'] == '23') + sum(common_df['APOE'] == '33')))\n",
    "print((sum(common_df['APOE'] == '24') + sum(common_df['APOE'] == '34')))\n",
    "print((sum(common_df['APOE'] == '44')))"
   ]
  },
  {
   "cell_type": "code",
   "execution_count": null,
   "metadata": {},
   "outputs": [],
   "source": [
    "# Count for each sub-cohort\n",
    "select_df = bf1_df[feature_groups[0] + common]\n",
    "select_df = select_df.dropna(how='any')\n",
    "select_df = select_df.dropna(how='any').reset_index(drop=True)\n",
    "select_df.describe()"
   ]
  },
  {
   "cell_type": "code",
   "execution_count": null,
   "metadata": {},
   "outputs": [],
   "source": [
    "print('Abeta abnormal:', select_df['CSF Abnormal Ratio'].sum())\n",
    "print('gender is 1: ', select_df['Sex'].sum())\n",
    "print(sum(select_df['Cognitive status'] == 'Normal'))\n",
    "print(sum(select_df['Cognitive status'] == 'SCD'))\n",
    "print(sum(select_df['Cognitive status'] == 'MCI'))\n",
    "print(sum(select_df['Cognitive status'] == 'Dementia'))\n",
    "print((sum(select_df['APOE'] == '22') + sum(select_df['APOE'] == '23') + sum(select_df['APOE'] == '33')))\n",
    "print((sum(select_df['APOE'] == '24') + sum(select_df['APOE'] == '34')))\n",
    "print((sum(select_df['APOE'] == '44')))"
   ]
  },
  {
   "cell_type": "code",
   "execution_count": null,
   "metadata": {},
   "outputs": [],
   "source": []
  }
 ],
 "metadata": {
  "kernelspec": {
   "display_name": "AI_work",
   "language": "python",
   "name": "python3"
  },
  "language_info": {
   "codemirror_mode": {
    "name": "ipython",
    "version": 3
   },
   "file_extension": ".py",
   "mimetype": "text/x-python",
   "name": "python",
   "nbconvert_exporter": "python",
   "pygments_lexer": "ipython3",
   "version": "3.9.6"
  }
 },
 "nbformat": 4,
 "nbformat_minor": 2
}
